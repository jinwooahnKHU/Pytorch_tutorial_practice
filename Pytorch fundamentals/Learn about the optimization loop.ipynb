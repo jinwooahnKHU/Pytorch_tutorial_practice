{
 "cells": [
  {
   "cell_type": "markdown",
   "id": "swiss-operation",
   "metadata": {},
   "source": [
    "## Optimizing the model parameters"
   ]
  },
  {
   "cell_type": "code",
   "execution_count": 3,
   "id": "blond-tiger",
   "metadata": {
    "ExecuteTime": {
     "end_time": "2022-06-01T06:03:03.151138Z",
     "start_time": "2022-06-01T06:02:44.992147Z"
    }
   },
   "outputs": [
    {
     "name": "stdout",
     "output_type": "stream",
     "text": [
      "Downloading http://fashion-mnist.s3-website.eu-central-1.amazonaws.com/train-images-idx3-ubyte.gz\n",
      "Downloading http://fashion-mnist.s3-website.eu-central-1.amazonaws.com/train-images-idx3-ubyte.gz to data/FashionMNIST/raw/train-images-idx3-ubyte.gz\n"
     ]
    },
    {
     "data": {
      "application/vnd.jupyter.widget-view+json": {
       "model_id": "e752af6bb59b4500a4d716f8ea92314a",
       "version_major": 2,
       "version_minor": 0
      },
      "text/plain": [
       "  0%|          | 0/26421880 [00:00<?, ?it/s]"
      ]
     },
     "metadata": {},
     "output_type": "display_data"
    },
    {
     "name": "stdout",
     "output_type": "stream",
     "text": [
      "Extracting data/FashionMNIST/raw/train-images-idx3-ubyte.gz to data/FashionMNIST/raw\n",
      "\n",
      "Downloading http://fashion-mnist.s3-website.eu-central-1.amazonaws.com/train-labels-idx1-ubyte.gz\n",
      "Downloading http://fashion-mnist.s3-website.eu-central-1.amazonaws.com/train-labels-idx1-ubyte.gz to data/FashionMNIST/raw/train-labels-idx1-ubyte.gz\n"
     ]
    },
    {
     "data": {
      "application/vnd.jupyter.widget-view+json": {
       "model_id": "dd42bdc1d5ae42bb8f18a0564bd45e7d",
       "version_major": 2,
       "version_minor": 0
      },
      "text/plain": [
       "  0%|          | 0/29515 [00:00<?, ?it/s]"
      ]
     },
     "metadata": {},
     "output_type": "display_data"
    },
    {
     "name": "stdout",
     "output_type": "stream",
     "text": [
      "Extracting data/FashionMNIST/raw/train-labels-idx1-ubyte.gz to data/FashionMNIST/raw\n",
      "\n",
      "Downloading http://fashion-mnist.s3-website.eu-central-1.amazonaws.com/t10k-images-idx3-ubyte.gz\n",
      "Downloading http://fashion-mnist.s3-website.eu-central-1.amazonaws.com/t10k-images-idx3-ubyte.gz to data/FashionMNIST/raw/t10k-images-idx3-ubyte.gz\n"
     ]
    },
    {
     "data": {
      "application/vnd.jupyter.widget-view+json": {
       "model_id": "8b101ae7526541d5bfbbb504c35675e9",
       "version_major": 2,
       "version_minor": 0
      },
      "text/plain": [
       "  0%|          | 0/4422102 [00:00<?, ?it/s]"
      ]
     },
     "metadata": {},
     "output_type": "display_data"
    },
    {
     "name": "stdout",
     "output_type": "stream",
     "text": [
      "Extracting data/FashionMNIST/raw/t10k-images-idx3-ubyte.gz to data/FashionMNIST/raw\n",
      "\n",
      "Downloading http://fashion-mnist.s3-website.eu-central-1.amazonaws.com/t10k-labels-idx1-ubyte.gz\n",
      "Downloading http://fashion-mnist.s3-website.eu-central-1.amazonaws.com/t10k-labels-idx1-ubyte.gz to data/FashionMNIST/raw/t10k-labels-idx1-ubyte.gz\n"
     ]
    },
    {
     "data": {
      "application/vnd.jupyter.widget-view+json": {
       "model_id": "6141ffc47e5747c69a3cf71d65090a54",
       "version_major": 2,
       "version_minor": 0
      },
      "text/plain": [
       "  0%|          | 0/5148 [00:00<?, ?it/s]"
      ]
     },
     "metadata": {},
     "output_type": "display_data"
    },
    {
     "name": "stdout",
     "output_type": "stream",
     "text": [
      "Extracting data/FashionMNIST/raw/t10k-labels-idx1-ubyte.gz to data/FashionMNIST/raw\n",
      "\n"
     ]
    },
    {
     "name": "stderr",
     "output_type": "stream",
     "text": [
      "/Users/jinwooahn/miniforge3/envs/torch_env/lib/python3.8/site-packages/torchvision/datasets/mnist.py:498: UserWarning: The given NumPy array is not writeable, and PyTorch does not support non-writeable tensors. This means you can write to the underlying (supposedly non-writeable) NumPy array using the tensor. You may want to copy the array to protect its data or make it writeable before converting it to a tensor. This type of warning will be suppressed for the rest of this program. (Triggered internally at  /tmp/pip-req-build-jhk0fkj8/torch/csrc/utils/tensor_numpy.cpp:180.)\n",
      "  return torch.from_numpy(parsed.astype(m[2], copy=False)).view(*s)\n"
     ]
    }
   ],
   "source": [
    "import torch\n",
    "from torch import nn\n",
    "from torch.utils.data import DataLoader\n",
    "from torchvision import datasets\n",
    "from torchvision.transforms import ToTensor, Lambda\n",
    "\n",
    "training_data = datasets.FashionMNIST(\n",
    "    root=\"data\",\n",
    "    train=True,\n",
    "    download=True,\n",
    "    transform=ToTensor()\n",
    ")\n",
    "test_data = datasets.FashionMNIST(\n",
    "    root=\"data\",\n",
    "    train=False,\n",
    "    download=True,\n",
    "    transform=ToTensor()\n",
    ")\n",
    "\n",
    "train_dataloader = DataLoader(training_data, batch_size=64)\n",
    "test_dataloader = DataLoader(test_data, batch_size=64)\n",
    "\n",
    "class NeuralNetwork(nn.Module):\n",
    "  def __init__(self):\n",
    "    super(NeuralNetwork,self).__init__()\n",
    "    self.flatten = nn.Flatten()\n",
    "    self.linear_relu_stack = nn.Sequential(\n",
    "        nn.Linear(28*28, 512),\n",
    "        nn.ReLU(),\n",
    "        nn.Linear(512, 512),\n",
    "        nn.ReLU(),\n",
    "        nn.Linear(512, 10),\n",
    "        nn.ReLU()\n",
    "    )\n",
    "  \n",
    "  def forward(self, x):\n",
    "    x = self.flatten(x)\n",
    "    logits = self.linear_relu_stack(x)\n",
    "    return logits\n",
    "  \n",
    "model = NeuralNetwork()\n",
    "\n"
   ]
  },
  {
   "cell_type": "code",
   "execution_count": 9,
   "id": "hawaiian-rover",
   "metadata": {
    "ExecuteTime": {
     "end_time": "2022-06-01T06:03:51.933402Z",
     "start_time": "2022-06-01T06:03:51.930569Z"
    }
   },
   "outputs": [],
   "source": [
    "#setting hyperparameters\n",
    "\n",
    "learning_rate=2e-5\n",
    "batch_size=64\n",
    "epochs=5\n"
   ]
  },
  {
   "cell_type": "code",
   "execution_count": 5,
   "id": "returning-soviet",
   "metadata": {
    "ExecuteTime": {
     "end_time": "2022-06-01T06:03:03.174120Z",
     "start_time": "2022-06-01T06:03:03.172048Z"
    }
   },
   "outputs": [],
   "source": [
    "# Add an optimization loop\n",
    "# Each iteration of the optimization loop is called an epoch\n",
    "# Train loop, Validation loop, Test loop\n",
    "\n",
    "#initialize the loss function\n",
    "\n",
    "loss_fn = nn.CrossEntropyLoss()\n"
   ]
  },
  {
   "cell_type": "code",
   "execution_count": 6,
   "id": "boring-humanitarian",
   "metadata": {
    "ExecuteTime": {
     "end_time": "2022-06-01T06:03:03.185673Z",
     "start_time": "2022-06-01T06:03:03.183708Z"
    }
   },
   "outputs": [],
   "source": [
    "#optimization pass\n",
    "\n",
    "optimizer = torch.optim.SGD(model.parameters(), lr = learning_rate)"
   ]
  },
  {
   "cell_type": "code",
   "execution_count": 7,
   "id": "invalid-magic",
   "metadata": {
    "ExecuteTime": {
     "end_time": "2022-06-01T06:03:03.195970Z",
     "start_time": "2022-06-01T06:03:03.192604Z"
    }
   },
   "outputs": [],
   "source": [
    "#optimization happens in 3 steps\n",
    "# 1. call optimizer.zero_grad() (reset the gradients)\n",
    "# 2. loss.backwards() (back propagate)\n",
    "# 3. optimizer.step() adjust the parameters by the gradients collected int the backward pass\n",
    "\n",
    "def train_loop(dataloader, model, loss_fn, optimizer):\n",
    "  size=len(dataloader.dataset)\n",
    "  for batch, (X, y) in enumerate(dataloader):\n",
    "    #compute prediction and loss\n",
    "    pred = model(X)\n",
    "    loss = loss_fn(pred, y)\n",
    "    \n",
    "    #backpropagation\n",
    "    optimizer.zero_grad() #초기화\n",
    "    loss.backward() #계산\n",
    "    optimizer.step() #계산한 값 적용\n",
    "    \n",
    "    if batch % 100 == 0:\n",
    "        loss, current = loss.item(), batch * len(X)\n",
    "        print(f\"loss: {loss:>7f} [{current:>5d}/{size:>5d}]\")\n",
    "\n",
    "def test_loop(dataloader, model, loss_fn):\n",
    "    size = len(dataloader.dataset)\n",
    "    test_loss, correct = 0, 0\n",
    "     \n",
    "    with torch.no_grad(): #추론이기에 no grad\n",
    "        for X, y in dataloader:\n",
    "            pred = model(X)\n",
    "            test_loss += loss_fn(pred, y).item()\n",
    "            correct += (pred.argmax(1) == y).type(torch.float).sum().item()\n",
    "    test_loss /= size\n",
    "    correct /= size\n",
    "    print(f\"Test Error: \\n Accuracy:{(100*correct):>0.1f}%, Avg loss: {test_loss:>8f} \\n\")\n",
    "    "
   ]
  },
  {
   "cell_type": "code",
   "execution_count": 10,
   "id": "foster-identification",
   "metadata": {
    "ExecuteTime": {
     "end_time": "2022-06-01T06:04:21.882212Z",
     "start_time": "2022-06-01T06:03:54.575749Z"
    }
   },
   "outputs": [
    {
     "name": "stdout",
     "output_type": "stream",
     "text": [
      "Epoch 1\n",
      "-----------------------\n",
      "loss: 1.375069 [    0/60000]\n",
      "loss: 1.372066 [ 6400/60000]\n",
      "loss: 1.258284 [12800/60000]\n",
      "loss: 1.401643 [19200/60000]\n",
      "loss: 1.190977 [25600/60000]\n",
      "loss: 1.418437 [32000/60000]\n",
      "loss: 1.167980 [38400/60000]\n",
      "loss: 1.217244 [44800/60000]\n",
      "loss: 1.316815 [51200/60000]\n",
      "loss: 1.336596 [57600/60000]\n",
      "Test Error: \n",
      " Accuracy:62.1%, Avg loss: 0.019695 \n",
      "\n",
      "Epoch 2\n",
      "-----------------------\n",
      "loss: 1.251915 [    0/60000]\n",
      "loss: 1.264629 [ 6400/60000]\n",
      "loss: 1.142221 [12800/60000]\n",
      "loss: 1.308963 [19200/60000]\n",
      "loss: 1.096941 [25600/60000]\n",
      "loss: 1.329147 [32000/60000]\n",
      "loss: 1.078009 [38400/60000]\n",
      "loss: 1.143494 [44800/60000]\n",
      "loss: 1.233792 [51200/60000]\n",
      "loss: 1.262432 [57600/60000]\n",
      "Test Error: \n",
      " Accuracy:63.6%, Avg loss: 0.018453 \n",
      "\n",
      "Epoch 3\n",
      "-----------------------\n",
      "loss: 1.165745 [    0/60000]\n",
      "loss: 1.189878 [ 6400/60000]\n",
      "loss: 1.058239 [12800/60000]\n",
      "loss: 1.242146 [19200/60000]\n",
      "loss: 1.033247 [25600/60000]\n",
      "loss: 1.261344 [32000/60000]\n",
      "loss: 1.016805 [38400/60000]\n",
      "loss: 1.090438 [44800/60000]\n",
      "loss: 1.171901 [51200/60000]\n",
      "loss: 1.206897 [57600/60000]\n",
      "Test Error: \n",
      " Accuracy:64.8%, Avg loss: 0.017536 \n",
      "\n",
      "Epoch 4\n",
      "-----------------------\n",
      "loss: 1.100404 [    0/60000]\n",
      "loss: 1.132924 [ 6400/60000]\n",
      "loss: 0.995184 [12800/60000]\n",
      "loss: 1.192944 [19200/60000]\n",
      "loss: 0.986970 [25600/60000]\n",
      "loss: 1.208716 [32000/60000]\n",
      "loss: 0.971872 [38400/60000]\n",
      "loss: 1.052855 [44800/60000]\n",
      "loss: 1.124556 [51200/60000]\n",
      "loss: 1.163679 [57600/60000]\n",
      "Test Error: \n",
      " Accuracy:65.9%, Avg loss: 0.016835 \n",
      "\n",
      "Epoch 5\n",
      "-----------------------\n",
      "loss: 1.048600 [    0/60000]\n",
      "loss: 1.087459 [ 6400/60000]\n",
      "loss: 0.945723 [12800/60000]\n",
      "loss: 1.155135 [19200/60000]\n",
      "loss: 0.951552 [25600/60000]\n",
      "loss: 1.166416 [32000/60000]\n",
      "loss: 0.936795 [38400/60000]\n",
      "loss: 1.025920 [44800/60000]\n",
      "loss: 1.087280 [51200/60000]\n",
      "loss: 1.128589 [57600/60000]\n",
      "Test Error: \n",
      " Accuracy:67.0%, Avg loss: 0.016277 \n",
      "\n",
      "Done!\n"
     ]
    }
   ],
   "source": [
    "for t in range(epochs):\n",
    "    print(f\"Epoch {t+1}\\n-----------------------\")\n",
    "    train_loop(train_dataloader, model, loss_fn, optimizer)\n",
    "    test_loop(test_dataloader, model, loss_fn)\n",
    "print(\"Done!\")"
   ]
  },
  {
   "cell_type": "code",
   "execution_count": 11,
   "id": "bulgarian-fireplace",
   "metadata": {
    "ExecuteTime": {
     "end_time": "2022-06-01T06:06:44.151745Z",
     "start_time": "2022-06-01T06:06:44.137788Z"
    }
   },
   "outputs": [],
   "source": [
    "# save model\n",
    "# can save learned parameters with state_dict() \n",
    "torch.save(model.state_dict(), \"data/model.pth\")"
   ]
  },
  {
   "cell_type": "code",
   "execution_count": null,
   "id": "seven-attraction",
   "metadata": {},
   "outputs": [],
   "source": []
  }
 ],
 "metadata": {
  "hide_input": false,
  "kernelspec": {
   "display_name": "pytorch_env",
   "language": "python",
   "name": "pytorch_env"
  },
  "language_info": {
   "codemirror_mode": {
    "name": "ipython",
    "version": 3
   },
   "file_extension": ".py",
   "mimetype": "text/x-python",
   "name": "python",
   "nbconvert_exporter": "python",
   "pygments_lexer": "ipython3",
   "version": "3.8.13"
  },
  "toc": {
   "base_numbering": 1,
   "nav_menu": {},
   "number_sections": true,
   "sideBar": true,
   "skip_h1_title": false,
   "title_cell": "Table of Contents",
   "title_sidebar": "Contents",
   "toc_cell": false,
   "toc_position": {},
   "toc_section_display": true,
   "toc_window_display": false
  },
  "varInspector": {
   "cols": {
    "lenName": 16,
    "lenType": 16,
    "lenVar": 40
   },
   "kernels_config": {
    "python": {
     "delete_cmd_postfix": "",
     "delete_cmd_prefix": "del ",
     "library": "var_list.py",
     "varRefreshCmd": "print(var_dic_list())"
    },
    "r": {
     "delete_cmd_postfix": ") ",
     "delete_cmd_prefix": "rm(",
     "library": "var_list.r",
     "varRefreshCmd": "cat(var_dic_list()) "
    }
   },
   "types_to_exclude": [
    "module",
    "function",
    "builtin_function_or_method",
    "instance",
    "_Feature"
   ],
   "window_display": false
  }
 },
 "nbformat": 4,
 "nbformat_minor": 5
}
