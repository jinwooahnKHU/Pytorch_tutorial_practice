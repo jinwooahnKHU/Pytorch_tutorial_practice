{
 "cells": [
  {
   "cell_type": "markdown",
   "id": "a94b0dc5",
   "metadata": {},
   "source": [
    "## Loading MNIST dataset"
   ]
  },
  {
   "cell_type": "code",
   "execution_count": 1,
   "id": "32e1dfce",
   "metadata": {
    "ExecuteTime": {
     "end_time": "2022-05-26T00:38:48.028214Z",
     "start_time": "2022-05-26T00:38:45.954951Z"
    }
   },
   "outputs": [],
   "source": [
    "import torch\n",
    "from torch.utils.data import Dataset\n",
    "from torchvision import datasets\n",
    "from torchvision.transforms import ToTensor, Lambda\n",
    "import matplotlib.pyplot as plt"
   ]
  },
  {
   "cell_type": "code",
   "execution_count": 3,
   "id": "9a5b2afe",
   "metadata": {
    "ExecuteTime": {
     "end_time": "2022-05-26T00:40:23.646125Z",
     "start_time": "2022-05-26T00:40:23.594539Z"
    }
   },
   "outputs": [],
   "source": [
    "#download fashion minst data\n",
    "training_data = datasets.FashionMNIST(\n",
    "    root=\"data\",\n",
    "    train=\"True\",\n",
    "    download=True,\n",
    "    transform=ToTensor() #transform data to tensor\n",
    ")\n",
    "test_data = datasets.FashionMNIST(\n",
    "    root=\"data\",\n",
    "    train=\"False\",\n",
    "    download=True,\n",
    "    transform=ToTensor()\n",
    ")"
   ]
  },
  {
   "cell_type": "code",
   "execution_count": 4,
   "id": "8bc5ecb2",
   "metadata": {
    "ExecuteTime": {
     "end_time": "2022-05-26T00:42:48.091067Z",
     "start_time": "2022-05-26T00:42:48.082059Z"
    }
   },
   "outputs": [
    {
     "data": {
      "text/plain": [
       "Dataset FashionMNIST\n",
       "    Number of datapoints: 60000\n",
       "    Root location: data\n",
       "    Split: Test\n",
       "    StandardTransform\n",
       "Transform: ToTensor()"
      ]
     },
     "execution_count": 4,
     "metadata": {},
     "output_type": "execute_result"
    }
   ],
   "source": [
    "training_data"
   ]
  },
  {
   "cell_type": "code",
   "execution_count": 27,
   "id": "3b976ad8",
   "metadata": {
    "ExecuteTime": {
     "end_time": "2022-05-26T00:53:26.604166Z",
     "start_time": "2022-05-26T00:53:26.295624Z"
    }
   },
   "outputs": [
    {
     "data": {
      "image/png": "[encoded data removed]",
      "text/plain": [
       "<Figure size 576x576 with 9 Axes>"
      ]
     },
     "metadata": {
      "needs_background": "light"
     },
     "output_type": "display_data"
    }
   ],
   "source": [
    "#visualizing the dataset\n",
    "labels_map={\n",
    "    0:\"T-shirt\",\n",
    "    1:\"Trouser\",\n",
    "    2:\"Pullover\",\n",
    "    3:\"Dress\",\n",
    "    4:\"Coat\",\n",
    "    5:\"Sandal\",\n",
    "    6:\"Shirt\",\n",
    "    7:\"Sneaker\",\n",
    "    8:\"Bag\",\n",
    "    9:\"Ankle Boot\",\n",
    "}\n",
    "figure = plt.figure(figsize=(8,8))\n",
    "cols, rows = 3,3\n",
    "for i in range(1, cols * rows +1):\n",
    "    #training data의 index 사이에서 randint로 하나 무작위 뽑아서 그 값을 item()으로 꺼낸 것\n",
    "    sample_idx = torch.randint(len(training_data), size=(1,)).item()\n",
    "    # traininig_data 은 tuple로 (img, label) 로 구성되어있음\n",
    "    # training_data[index][0].size() 해보면 torch.Size([1, 28, 28]) 가 나오며,\n",
    "    # training_data[index][1] 은 label을 나타낸다 \n",
    "    img, label = training_data[sample_idx]\n",
    "    figure.add_subplot(rows, cols, i)\n",
    "    plt.title(labels_map[label])\n",
    "    plt.axis(\"off\")\n",
    "    plt.imshow(img.squeeze(), cmap=\"gray\")\n",
    "plt.show()\n",
    "    "
   ]
  },
  {
   "cell_type": "markdown",
   "id": "b7e11e03",
   "metadata": {},
   "source": [
    "### Prepare data with DataLoaders"
   ]
  },
  {
   "cell_type": "code",
   "execution_count": 28,
   "id": "e6fd1506",
   "metadata": {
    "ExecuteTime": {
     "end_time": "2022-05-26T00:58:15.586207Z",
     "start_time": "2022-05-26T00:58:15.574201Z"
    }
   },
   "outputs": [],
   "source": [
    "from torch.utils.data import DataLoader\n",
    "\n",
    "#define dataloader\n",
    "train_dataloader = DataLoader(training_data, batch_size=64, shuffle=True)\n",
    "test_dataloader = DataLoader(test_data, batch_size=64, shuffle=True)"
   ]
  },
  {
   "cell_type": "code",
   "execution_count": 41,
   "id": "5df3c0d7",
   "metadata": {
    "ExecuteTime": {
     "end_time": "2022-05-26T01:04:02.782647Z",
     "start_time": "2022-05-26T01:04:02.697634Z"
    }
   },
   "outputs": [
    {
     "name": "stdout",
     "output_type": "stream",
     "text": [
      "Feature batch shape: torch.Size([64, 1, 28, 28])\n",
      "Labels batch shape: torch.Size([64])\n"
     ]
    },
    {
     "data": {
      "image/png": "[encoded data removed]",
      "text/plain": [
       "<Figure size 432x288 with 1 Axes>"
      ]
     },
     "metadata": {
      "needs_background": "light"
     },
     "output_type": "display_data"
    },
    {
     "name": "stdout",
     "output_type": "stream",
     "text": [
      "Label: 1\n"
     ]
    }
   ],
   "source": [
    "#Iterate \n",
    "#iterator로 바꾸어서 next로 계속 넘겨준다\n",
    "train_features, train_labels = next(iter(train_dataloader))\n",
    "print(f\"Feature batch shape: {train_features.size()}\")\n",
    "print(f\"Labels batch shape: {train_labels.size()}\")\n",
    "img = train_features[0].squeeze() #squeeze() : 차원이 1인 곳을 제거\n",
    "label = train_labels[0]\n",
    "plt.imshow(img, cmap=\"gray\")\n",
    "plt.show()\n",
    "print(f\"Label: {label}\")\n"
   ]
  },
  {
   "cell_type": "markdown",
   "id": "c4424171",
   "metadata": {},
   "source": [
    "### Normalization"
   ]
  },
  {
   "cell_type": "markdown",
   "id": "034fa3e4",
   "metadata": {},
   "source": [
    "+ 사진 픽셀들은 0 ~ 255 값을 가지는데, 이를 정규화하지 않으면 픽셀값들의 큰 편차로 훈련에 좋지 않음\n",
    "+ transform 함수로 preprocessing"
   ]
  },
  {
   "cell_type": "code",
   "execution_count": 45,
   "id": "63a6ee24",
   "metadata": {
    "ExecuteTime": {
     "end_time": "2022-05-26T01:18:02.530470Z",
     "start_time": "2022-05-26T01:18:02.496040Z"
    }
   },
   "outputs": [],
   "source": [
    "from torchvision import datasets\n",
    "from torchvision.transforms import ToTensor, Lambda\n",
    "#torchVision dataset의 transform 은 feature을 바꾸며, target_transform은 label을 바꾸게 하는 parameter\n",
    "ds = datasets.FashionMNIST(\n",
    "    root=\"data\",\n",
    "    train=True,\n",
    "    download=True,\n",
    "    transform=ToTensor(),\n",
    "    #label값을 정수가 아닌 one hot encode tensor로 바꿈\n",
    "    #torch.tensor.scatter_(dim, index, src, reduce=None)\n",
    "    # scatter_(축, 새로 나타낼 인덱스, 새로 저장할 입력값)\n",
    "    # label값에 해당하는 index에 value=1을 할당한다\n",
    "    target_transform=Lambda(lambda y : torch.zeros(10, dtype=torch.float).scatter_(0, torch.tensor(y), value=1))\n",
    ")"
   ]
  },
  {
   "cell_type": "code",
   "execution_count": 44,
   "id": "d2e5657a",
   "metadata": {
    "ExecuteTime": {
     "end_time": "2022-05-26T01:12:27.103940Z",
     "start_time": "2022-05-26T01:12:27.093938Z"
    }
   },
   "outputs": [
    {
     "data": {
      "text/plain": [
       "tensor([0., 0., 0., 1., 0., 0., 0., 0., 0., 0.])"
      ]
     },
     "execution_count": 44,
     "metadata": {},
     "output_type": "execute_result"
    }
   ],
   "source": [
    "torch.zeros(10).scatter_(0, torch.tensor(3), value=1)"
   ]
  }
 ],
 "metadata": {
  "hide_input": false,
  "kernelspec": {
   "display_name": "torch_env",
   "language": "python",
   "name": "torch_env"
  },
  "language_info": {
   "codemirror_mode": {
    "name": "ipython",
    "version": 3
   },
   "file_extension": ".py",
   "mimetype": "text/x-python",
   "name": "python",
   "nbconvert_exporter": "python",
   "pygments_lexer": "ipython3",
   "version": "3.8.13"
  },
  "toc": {
   "base_numbering": 1,
   "nav_menu": {},
   "number_sections": true,
   "sideBar": true,
   "skip_h1_title": false,
   "title_cell": "Table of Contents",
   "title_sidebar": "Contents",
   "toc_cell": false,
   "toc_position": {},
   "toc_section_display": true,
   "toc_window_display": false
  },
  "varInspector": {
   "cols": {
    "lenName": 16,
    "lenType": 16,
    "lenVar": 40
   },
   "kernels_config": {
    "python": {
     "delete_cmd_postfix": "",
     "delete_cmd_prefix": "del ",
     "library": "var_list.py",
     "varRefreshCmd": "print(var_dic_list())"
    },
    "r": {
     "delete_cmd_postfix": ") ",
     "delete_cmd_prefix": "rm(",
     "library": "var_list.r",
     "varRefreshCmd": "cat(var_dic_list()) "
    }
   },
   "types_to_exclude": [
    "module",
    "function",
    "builtin_function_or_method",
    "instance",
    "_Feature"
   ],
   "window_display": false
  }
 },
 "nbformat": 4,
 "nbformat_minor": 5
}
