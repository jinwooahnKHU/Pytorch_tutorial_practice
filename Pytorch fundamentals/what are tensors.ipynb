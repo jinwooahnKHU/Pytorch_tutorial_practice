{
 "cells": [
  {
   "cell_type": "code",
   "execution_count": 1,
   "id": "01fdb4ec",
   "metadata": {
    "ExecuteTime": {
     "end_time": "2022-05-24T12:24:24.857449Z",
     "start_time": "2022-05-24T12:24:23.640572Z"
    }
   },
   "outputs": [],
   "source": [
    "import torch\n",
    "import numpy as np"
   ]
  },
  {
   "cell_type": "code",
   "execution_count": 2,
   "id": "c652790c",
   "metadata": {
    "ExecuteTime": {
     "end_time": "2022-05-24T12:24:24.873451Z",
     "start_time": "2022-05-24T12:24:24.858450Z"
    }
   },
   "outputs": [],
   "source": [
    "x = torch.rand(2,3)"
   ]
  },
  {
   "cell_type": "code",
   "execution_count": 3,
   "id": "ca9d36e3",
   "metadata": {
    "ExecuteTime": {
     "end_time": "2022-05-24T12:24:24.889453Z",
     "start_time": "2022-05-24T12:24:24.874452Z"
    }
   },
   "outputs": [
    {
     "name": "stdout",
     "output_type": "stream",
     "text": [
      "tensor([[0.0943, 0.2507, 0.4569],\n",
      "        [0.0048, 0.4713, 0.2544]])\n"
     ]
    }
   ],
   "source": [
    "print(x)"
   ]
  },
  {
   "cell_type": "code",
   "execution_count": 4,
   "id": "5781cf88",
   "metadata": {
    "ExecuteTime": {
     "end_time": "2022-05-24T12:24:24.904467Z",
     "start_time": "2022-05-24T12:24:24.890454Z"
    }
   },
   "outputs": [],
   "source": [
    "data = [[1,2],[3,4]]\n",
    "x_data = torch.tensor(data) #tensor로 변환"
   ]
  },
  {
   "cell_type": "code",
   "execution_count": 5,
   "id": "a55ceab6",
   "metadata": {
    "ExecuteTime": {
     "end_time": "2022-05-24T12:24:24.920475Z",
     "start_time": "2022-05-24T12:24:24.905468Z"
    }
   },
   "outputs": [
    {
     "name": "stdout",
     "output_type": "stream",
     "text": [
      "[[1 2]\n",
      " [3 4]]\n",
      "tensor([[1, 2],\n",
      "        [3, 4]], dtype=torch.int32)\n"
     ]
    }
   ],
   "source": [
    "#numpy array to tensor\n",
    "np_array = np.array(data)\n",
    "print(np_array)\n",
    "print(torch.tensor(np_array))"
   ]
  },
  {
   "cell_type": "code",
   "execution_count": 6,
   "id": "957c3ab4",
   "metadata": {
    "ExecuteTime": {
     "end_time": "2022-05-24T12:24:24.936491Z",
     "start_time": "2022-05-24T12:24:24.921475Z"
    }
   },
   "outputs": [
    {
     "name": "stdout",
     "output_type": "stream",
     "text": [
      "tensor([[1, 1],\n",
      "        [1, 1]])\n",
      "tensor([[0.9542, 0.9209],\n",
      "        [0.1721, 0.9195]])\n"
     ]
    }
   ],
   "source": [
    "#ones_like : 동일한 크기(shape) 지만 1으로 값이 채워진 텐서를 생성(retains the properties)\n",
    "x_ones = torch.ones_like(x_data)\n",
    "print(x_ones) #x_data와 shape이 동일한 tensor 생성\n",
    "\n",
    "x_rand = torch.rand_like(x_data, dtype=torch.float) #overrides the datatype of x_data\n",
    "print(x_rand)"
   ]
  },
  {
   "cell_type": "code",
   "execution_count": 7,
   "id": "1b246c1f",
   "metadata": {
    "ExecuteTime": {
     "end_time": "2022-05-24T12:24:24.952506Z",
     "start_time": "2022-05-24T12:24:24.937491Z"
    }
   },
   "outputs": [
    {
     "name": "stdout",
     "output_type": "stream",
     "text": [
      "tensor([[0.0874, 0.8687, 0.9242],\n",
      "        [0.4128, 0.5652, 0.2994]])\n",
      "tensor([[1., 1., 1.],\n",
      "        [1., 1., 1.]])\n",
      "tensor([[0., 0., 0.],\n",
      "        [0., 0., 0.]])\n"
     ]
    }
   ],
   "source": [
    "# shape = (# of rows, # of columns)\n",
    "shape = (2,3) #tuple\n",
    "rand_tensor = torch.rand(shape)\n",
    "ones_tensor = torch.ones(shape)\n",
    "zeros_tensor = torch.zeros(shape)\n",
    "\n",
    "print(rand_tensor)\n",
    "print(ones_tensor)\n",
    "print(zeros_tensor)"
   ]
  },
  {
   "cell_type": "code",
   "execution_count": 8,
   "id": "4b8d6d58",
   "metadata": {
    "ExecuteTime": {
     "end_time": "2022-05-24T12:24:24.968457Z",
     "start_time": "2022-05-24T12:24:24.953507Z"
    }
   },
   "outputs": [
    {
     "name": "stdout",
     "output_type": "stream",
     "text": [
      "torch.Size([3, 4])\n",
      "torch.float32\n",
      "cpu\n"
     ]
    }
   ],
   "source": [
    "#attributes of a tensor\n",
    "tensor = torch.rand(3,4)\n",
    "\n",
    "print(tensor.shape)\n",
    "print(tensor.dtype)\n",
    "print(tensor.device)"
   ]
  },
  {
   "cell_type": "code",
   "execution_count": 9,
   "id": "9d46cec4",
   "metadata": {
    "ExecuteTime": {
     "end_time": "2022-05-24T12:24:25.107469Z",
     "start_time": "2022-05-24T12:24:24.969457Z"
    }
   },
   "outputs": [],
   "source": [
    "# tensor 연산은 기본적으로 cpu에서 실행되지만, gpu에서 하는 것이 훨씬 빠르므로, 가능한지 check 후 전환\n",
    "if torch.cuda.is_available():\n",
    "    tensor = tensor.to('cuda')"
   ]
  },
  {
   "cell_type": "markdown",
   "id": "c6d529a4",
   "metadata": {},
   "source": [
    "### Indexing and Slicing in Tensor"
   ]
  },
  {
   "cell_type": "code",
   "execution_count": 10,
   "id": "f6e0de66",
   "metadata": {
    "ExecuteTime": {
     "end_time": "2022-05-24T12:24:25.123484Z",
     "start_time": "2022-05-24T12:24:25.109471Z"
    }
   },
   "outputs": [
    {
     "name": "stdout",
     "output_type": "stream",
     "text": [
      "first row:  tensor([1., 1., 1., 1.])\n",
      "first column tensor([1., 1., 1., 1.])\n",
      "last column tensor([1., 1., 1., 1.])\n",
      "tensor([[1., 0., 1., 1.],\n",
      "        [1., 0., 1., 1.],\n",
      "        [1., 0., 1., 1.],\n",
      "        [1., 0., 1., 1.]])\n"
     ]
    }
   ],
   "source": [
    "tensor = torch.ones(4,4)\n",
    "print('first row: ', tensor[0])\n",
    "print('first column', tensor[:, 0])\n",
    "print('last column', tensor[..., -1])\n",
    "tensor[:,1] = 0 #1번째 column 값을 바꿈\n",
    "print(tensor)"
   ]
  },
  {
   "cell_type": "code",
   "execution_count": 12,
   "id": "1a9d8703",
   "metadata": {
    "ExecuteTime": {
     "end_time": "2022-05-24T12:24:31.614598Z",
     "start_time": "2022-05-24T12:24:31.609595Z"
    }
   },
   "outputs": [
    {
     "name": "stdout",
     "output_type": "stream",
     "text": [
      "tensor([[1., 0., 1., 1., 1., 0., 1., 1., 1., 0., 1., 1.],\n",
      "        [1., 0., 1., 1., 1., 0., 1., 1., 1., 0., 1., 1.],\n",
      "        [1., 0., 1., 1., 1., 0., 1., 1., 1., 0., 1., 1.],\n",
      "        [1., 0., 1., 1., 1., 0., 1., 1., 1., 0., 1., 1.]])\n"
     ]
    }
   ],
   "source": [
    "#Joining tensors\n",
    "# torch.cat vs torch.stack\n",
    "t = torch.cat([tensor,tensor, tensor], dim=1)\n",
    "print(t)"
   ]
  },
  {
   "cell_type": "code",
   "execution_count": 20,
   "id": "23014ee3",
   "metadata": {
    "ExecuteTime": {
     "end_time": "2022-05-24T12:44:30.879261Z",
     "start_time": "2022-05-24T12:44:30.854240Z"
    }
   },
   "outputs": [
    {
     "name": "stdout",
     "output_type": "stream",
     "text": [
      "tensor([[3., 3., 3., 3.],\n",
      "        [3., 3., 3., 3.],\n",
      "        [3., 3., 3., 3.],\n",
      "        [3., 3., 3., 3.]])\n",
      "tensor([[3., 3., 3., 3.],\n",
      "        [3., 3., 3., 3.],\n",
      "        [3., 3., 3., 3.],\n",
      "        [3., 3., 3., 3.]])\n",
      "tensor([[0.7060, 0.6343, 0.6747, 0.4376],\n",
      "        [0.3205, 0.4097, 0.3150, 0.5032],\n",
      "        [0.9475, 0.9207, 0.8410, 0.6549],\n",
      "        [0.2627, 0.0353, 0.0378, 0.3664]])\n"
     ]
    },
    {
     "data": {
      "text/plain": [
       "tensor([[3., 3., 3., 3.],\n",
       "        [3., 3., 3., 3.],\n",
       "        [3., 3., 3., 3.],\n",
       "        [3., 3., 3., 3.]])"
      ]
     },
     "execution_count": 20,
     "metadata": {},
     "output_type": "execute_result"
    }
   ],
   "source": [
    "# Arithmetic operations\n",
    "# 행렬곱 연산(matrix multiplication)을 나타내는 다양한 표현\n",
    "t1 = tensor @ tensor.T\n",
    "t2 = tensor.matmul(tensor.T)\n",
    "t3 = torch.rand_like(tensor)\n",
    "print(t1)\n",
    "print(t2)\n",
    "print(t3)\n",
    "torch.matmul(tensor, tensor.T, out=t3)"
   ]
  },
  {
   "cell_type": "code",
   "execution_count": 22,
   "id": "5a2f0e66",
   "metadata": {
    "ExecuteTime": {
     "end_time": "2022-05-24T12:55:50.400495Z",
     "start_time": "2022-05-24T12:55:50.394466Z"
    }
   },
   "outputs": [
    {
     "data": {
      "text/plain": [
       "tensor([[1., 0., 1., 1.],\n",
       "        [1., 0., 1., 1.],\n",
       "        [1., 0., 1., 1.],\n",
       "        [1., 0., 1., 1.]])"
      ]
     },
     "execution_count": 22,
     "metadata": {},
     "output_type": "execute_result"
    }
   ],
   "source": [
    "# element wise product (각 행렬의 원소 끼리의 곱)\n",
    "z1 = tensor * tensor\n",
    "z2 = tensor.mul(tensor)\n",
    "\n",
    "z3 = torch.rand_like(tensor)\n",
    "torch.mul(tensor, tensor, out=z3)"
   ]
  },
  {
   "cell_type": "code",
   "execution_count": 27,
   "id": "46bc2f36",
   "metadata": {
    "ExecuteTime": {
     "end_time": "2022-05-24T14:31:02.716289Z",
     "start_time": "2022-05-24T14:31:02.701277Z"
    }
   },
   "outputs": [
    {
     "name": "stdout",
     "output_type": "stream",
     "text": [
      "tensor([[1., 0., 1., 1.],\n",
      "        [1., 0., 1., 1.],\n",
      "        [1., 0., 1., 1.],\n",
      "        [1., 0., 1., 1.]])\n",
      "tensor(12.)\n",
      "12.0 <class 'float'>\n"
     ]
    }
   ],
   "source": [
    "# tensor 을 single element value로 요약 통계량 나타내기\n",
    "agg = tensor.sum() \n",
    "print(tensor)\n",
    "print(agg)\n",
    "agg_item = agg.item() #단일 float로 뽑아내기 위해서는 item 함수 사용\n",
    "print(agg_item, type(agg_item))"
   ]
  },
  {
   "cell_type": "code",
   "execution_count": 31,
   "id": "cc031bf2",
   "metadata": {
    "ExecuteTime": {
     "end_time": "2022-05-24T14:33:16.324183Z",
     "start_time": "2022-05-24T14:33:16.306175Z"
    }
   },
   "outputs": [
    {
     "name": "stdout",
     "output_type": "stream",
     "text": [
      "tensor([[11., 10., 11., 11.],\n",
      "        [11., 10., 11., 11.],\n",
      "        [11., 10., 11., 11.],\n",
      "        [11., 10., 11., 11.]])\n",
      "tensor([[16., 15., 16., 16.],\n",
      "        [16., 15., 16., 16.],\n",
      "        [16., 15., 16., 16.],\n",
      "        [16., 15., 16., 16.]])\n"
     ]
    }
   ],
   "source": [
    "# 피 연산자(operand)에 값을 추가하는 것을 in-place 연산이라고 하며 '_'을 사용하여 수행\n",
    "print(tensor)\n",
    "tensor.add_(5)\n",
    "print(tensor)"
   ]
  },
  {
   "cell_type": "code",
   "execution_count": 35,
   "id": "51a33ac7",
   "metadata": {
    "ExecuteTime": {
     "end_time": "2022-05-24T14:35:06.599371Z",
     "start_time": "2022-05-24T14:35:06.593365Z"
    }
   },
   "outputs": [
    {
     "name": "stdout",
     "output_type": "stream",
     "text": [
      "t : tensor([1., 1., 1., 1., 1.])\n",
      "n : [1. 1. 1. 1. 1.]\n",
      "t : tensor([2., 2., 2., 2., 2.])\n",
      "n : [2. 2. 2. 2. 2.]\n"
     ]
    }
   ],
   "source": [
    "# change tensor to numpy array\n",
    "t = torch.ones(5)\n",
    "print(f\"t : {t}\")\n",
    "\n",
    "n  =t.numpy()\n",
    "print(f\"n : {n}\")\n",
    "\n",
    "# in-place 연산을 취하면 메모리를 공유하기에 n에도 영향을 미친다\n",
    "t.add_(1)\n",
    "print(f\"t : {t}\")\n",
    "print(f\"n : {n}\")\n"
   ]
  },
  {
   "cell_type": "code",
   "execution_count": null,
   "id": "4cabde1b",
   "metadata": {},
   "outputs": [],
   "source": []
  },
  {
   "cell_type": "code",
   "execution_count": 17,
   "id": "895f297e",
   "metadata": {
    "ExecuteTime": {
     "end_time": "2022-05-24T12:42:13.178048Z",
     "start_time": "2022-05-24T12:42:13.174045Z"
    }
   },
   "outputs": [
    {
     "name": "stdout",
     "output_type": "stream",
     "text": [
      "tensor([[13,  8],\n",
      "        [ 8,  5]])\n"
     ]
    }
   ],
   "source": [
    "data = [[2,3],[1,2]]\n",
    "t_data = torch.tensor(data)\n",
    "\n",
    "t1 = t_data @ t_data.T\n",
    "print(t1)"
   ]
  },
  {
   "cell_type": "code",
   "execution_count": null,
   "id": "89026f59",
   "metadata": {},
   "outputs": [],
   "source": []
  }
 ],
 "metadata": {
  "hide_input": false,
  "kernelspec": {
   "display_name": "torch_env",
   "language": "python",
   "name": "torch_env"
  },
  "language_info": {
   "codemirror_mode": {
    "name": "ipython",
    "version": 3
   },
   "file_extension": ".py",
   "mimetype": "text/x-python",
   "name": "python",
   "nbconvert_exporter": "python",
   "pygments_lexer": "ipython3",
   "version": "3.8.13"
  },
  "toc": {
   "base_numbering": 1,
   "nav_menu": {},
   "number_sections": true,
   "sideBar": true,
   "skip_h1_title": false,
   "title_cell": "Table of Contents",
   "title_sidebar": "Contents",
   "toc_cell": false,
   "toc_position": {},
   "toc_section_display": true,
   "toc_window_display": false
  },
  "varInspector": {
   "cols": {
    "lenName": 16,
    "lenType": 16,
    "lenVar": 40
   },
   "kernels_config": {
    "python": {
     "delete_cmd_postfix": "",
     "delete_cmd_prefix": "del ",
     "library": "var_list.py",
     "varRefreshCmd": "print(var_dic_list())"
    },
    "r": {
     "delete_cmd_postfix": ") ",
     "delete_cmd_prefix": "rm(",
     "library": "var_list.r",
     "varRefreshCmd": "cat(var_dic_list()) "
    }
   },
   "types_to_exclude": [
    "module",
    "function",
    "builtin_function_or_method",
    "instance",
    "_Feature"
   ],
   "window_display": false
  },
  "widgets": {
   "application/vnd.jupyter.widget-state+json": {
    "state": {},
    "version_major": 2,
    "version_minor": 0
   }
  }
 },
 "nbformat": 4,
 "nbformat_minor": 5
}
