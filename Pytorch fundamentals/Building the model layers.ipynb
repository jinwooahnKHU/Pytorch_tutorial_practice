{
 "cells": [
  {
   "cell_type": "markdown",
   "id": "da7506af",
   "metadata": {},
   "source": [
    "## Build a NN"
   ]
  },
  {
   "cell_type": "code",
   "execution_count": 2,
   "id": "c9dde9cb",
   "metadata": {
    "ExecuteTime": {
     "end_time": "2022-05-27T02:26:27.894294Z",
     "start_time": "2022-05-27T02:26:26.415474Z"
    }
   },
   "outputs": [],
   "source": [
    "import os\n",
    "import torch\n",
    "from torch import nn\n",
    "from torch.utils.data import DataLoader\n",
    "from torchvision import datasets, transforms"
   ]
  },
  {
   "cell_type": "code",
   "execution_count": 3,
   "id": "4dfe0192",
   "metadata": {
    "ExecuteTime": {
     "end_time": "2022-05-27T02:26:27.971728Z",
     "start_time": "2022-05-27T02:26:27.910737Z"
    }
   },
   "outputs": [
    {
     "name": "stdout",
     "output_type": "stream",
     "text": [
      "cuda\n"
     ]
    }
   ],
   "source": [
    "device = 'cuda' if torch.cuda.is_available() else 'cpu'\n",
    "print(device)"
   ]
  },
  {
   "cell_type": "markdown",
   "id": "fde53f30",
   "metadata": {},
   "source": [
    "### Define the class"
   ]
  },
  {
   "cell_type": "code",
   "execution_count": 15,
   "id": "6fed37eb",
   "metadata": {
    "ExecuteTime": {
     "end_time": "2022-05-27T02:34:01.690174Z",
     "start_time": "2022-05-27T02:34:01.672158Z"
    }
   },
   "outputs": [],
   "source": [
    "# nn.Module을 상속받아 사용한다\n",
    "class NeuralNetwork(nn.Module):\n",
    "    def __init__(self):\n",
    "        super(NeuralNetwork, self).__init__() #nn.Module을 초기화 상속(생성자 역할), 반드시 있어야함\n",
    "        self.flatten = nn.Flatten()\n",
    "        self.linear_relu_stack = nn.Sequential(\n",
    "            nn.Linear(28*28, 512),\n",
    "            nn.ReLU(),\n",
    "            nn.Linear(512,512),\n",
    "            nn.ReLU(),\n",
    "            nn.Linear(512,10),\n",
    "            nn.ReLU()\n",
    "        )\n",
    "    # forward(*input) 형태로, 연산 정의를 담당. subclasses에서 overridden되어야 한다!\n",
    "    def forward(self, x): #nn.module을 상속받았기에 forward을 바꾸면 안됨\n",
    "        x = self.flatten(x) #펴주고\n",
    "        logits = self.linear_relu_stack(x) #init에서 정의한 layer통과시키기 \n",
    "        return logits"
   ]
  },
  {
   "cell_type": "code",
   "execution_count": 16,
   "id": "26e675d1",
   "metadata": {
    "ExecuteTime": {
     "end_time": "2022-05-27T02:34:01.848500Z",
     "start_time": "2022-05-27T02:34:01.839493Z"
    }
   },
   "outputs": [
    {
     "name": "stdout",
     "output_type": "stream",
     "text": [
      "NeuralNetwork(\n",
      "  (flatten): Flatten(start_dim=1, end_dim=-1)\n",
      "  (linear_relu_stack): Sequential(\n",
      "    (0): Linear(in_features=784, out_features=512, bias=True)\n",
      "    (1): ReLU()\n",
      "    (2): Linear(in_features=512, out_features=512, bias=True)\n",
      "    (3): ReLU()\n",
      "    (4): Linear(in_features=512, out_features=10, bias=True)\n",
      "    (5): ReLU()\n",
      "  )\n",
      ")\n"
     ]
    }
   ],
   "source": [
    "model = NeuralNetwork().to(device)\n",
    "print(model)"
   ]
  },
  {
   "cell_type": "code",
   "execution_count": 17,
   "id": "5ff11f26",
   "metadata": {
    "ExecuteTime": {
     "end_time": "2022-05-27T02:34:02.021572Z",
     "start_time": "2022-05-27T02:34:02.008560Z"
    }
   },
   "outputs": [
    {
     "name": "stdout",
     "output_type": "stream",
     "text": [
      "Predicted class : tensor([1], device='cuda:0')\n"
     ]
    }
   ],
   "source": [
    "#prediction\n",
    "X = torch.rand(1, 28, 28, device=device)\n",
    "logits = model(X)\n",
    "pred_probab = nn.Softmax(dim=1)(logits) #get the prediction densities\n",
    "y_pred = pred_probab.argmax(1)\n",
    "print(f\"Predicted class : {y_pred}\")"
   ]
  },
  {
   "cell_type": "markdown",
   "id": "40b78006",
   "metadata": {},
   "source": [
    "### Weights and Bias"
   ]
  },
  {
   "cell_type": "markdown",
   "id": "3aa21ab6",
   "metadata": {},
   "source": [
    "+ nn.Linear randomly initializes the weights and bias for each layers and internally stores"
   ]
  },
  {
   "cell_type": "code",
   "execution_count": 18,
   "id": "2330d4fc",
   "metadata": {
    "ExecuteTime": {
     "end_time": "2022-05-27T03:21:59.216762Z",
     "start_time": "2022-05-27T03:21:59.161708Z"
    }
   },
   "outputs": [
    {
     "name": "stdout",
     "output_type": "stream",
     "text": [
      "First Linear weights: Parameter containing:\n",
      "tensor([[ 0.0087, -0.0046, -0.0333,  ...,  0.0283, -0.0220, -0.0045],\n",
      "        [ 0.0168,  0.0060,  0.0144,  ..., -0.0010,  0.0279,  0.0338],\n",
      "        [-0.0315,  0.0143,  0.0160,  ..., -0.0126,  0.0042, -0.0137],\n",
      "        ...,\n",
      "        [-0.0167,  0.0113, -0.0351,  ..., -0.0226,  0.0078, -0.0316],\n",
      "        [ 0.0317, -0.0105, -0.0014,  ..., -0.0024,  0.0238, -0.0204],\n",
      "        [-0.0295, -0.0178,  0.0053,  ..., -0.0286, -0.0187,  0.0082]],\n",
      "       device='cuda:0', requires_grad=True) \n",
      "\n",
      "First Linear weights: Parameter containing:\n",
      "tensor([ 0.0350,  0.0086,  0.0060, -0.0189,  0.0204, -0.0059, -0.0001,  0.0317,\n",
      "         0.0255,  0.0177,  0.0050,  0.0002, -0.0242, -0.0264,  0.0146, -0.0262,\n",
      "        -0.0036, -0.0264,  0.0295,  0.0227,  0.0231,  0.0241,  0.0110,  0.0097,\n",
      "        -0.0007, -0.0164, -0.0228,  0.0340, -0.0051, -0.0109, -0.0194, -0.0147,\n",
      "        -0.0196, -0.0034,  0.0054,  0.0086, -0.0140, -0.0146,  0.0304,  0.0305,\n",
      "        -0.0205, -0.0120,  0.0146,  0.0133,  0.0083,  0.0254,  0.0304,  0.0224,\n",
      "        -0.0046, -0.0310,  0.0253,  0.0138, -0.0133, -0.0347,  0.0267, -0.0123,\n",
      "        -0.0031,  0.0022,  0.0043,  0.0032,  0.0216,  0.0260, -0.0340,  0.0224,\n",
      "        -0.0034,  0.0240, -0.0187,  0.0072, -0.0201,  0.0203, -0.0151, -0.0154,\n",
      "         0.0243,  0.0258, -0.0147,  0.0336,  0.0063,  0.0246, -0.0165,  0.0132,\n",
      "         0.0156,  0.0340, -0.0121,  0.0112,  0.0033,  0.0004,  0.0265,  0.0125,\n",
      "         0.0289,  0.0294, -0.0333, -0.0152, -0.0026,  0.0325,  0.0137, -0.0139,\n",
      "        -0.0022, -0.0286,  0.0007,  0.0144, -0.0258,  0.0306, -0.0240, -0.0297,\n",
      "        -0.0272, -0.0004,  0.0346,  0.0121, -0.0310,  0.0203, -0.0007,  0.0224,\n",
      "         0.0187, -0.0189, -0.0189,  0.0314,  0.0271, -0.0044, -0.0302,  0.0106,\n",
      "         0.0342,  0.0109,  0.0293,  0.0023,  0.0195,  0.0104, -0.0215,  0.0231,\n",
      "         0.0184,  0.0346,  0.0350,  0.0278, -0.0054,  0.0128,  0.0087, -0.0088,\n",
      "         0.0154, -0.0232,  0.0011,  0.0085,  0.0069,  0.0280, -0.0303,  0.0107,\n",
      "        -0.0127,  0.0299,  0.0073, -0.0013,  0.0344, -0.0236, -0.0181,  0.0015,\n",
      "        -0.0349, -0.0130, -0.0088, -0.0003,  0.0040, -0.0153,  0.0221,  0.0038,\n",
      "         0.0216, -0.0147, -0.0004,  0.0339, -0.0048,  0.0071, -0.0235,  0.0215,\n",
      "        -0.0029, -0.0164, -0.0097, -0.0128,  0.0327, -0.0224,  0.0084, -0.0014,\n",
      "        -0.0092, -0.0174,  0.0033, -0.0155,  0.0002,  0.0313, -0.0077,  0.0195,\n",
      "        -0.0174, -0.0352, -0.0058, -0.0061,  0.0285, -0.0313, -0.0040, -0.0110,\n",
      "         0.0053, -0.0089, -0.0059, -0.0033,  0.0059, -0.0035, -0.0119, -0.0267,\n",
      "         0.0085,  0.0216, -0.0270,  0.0063, -0.0083,  0.0103,  0.0192,  0.0205,\n",
      "         0.0210,  0.0182, -0.0198,  0.0261, -0.0293, -0.0014,  0.0303, -0.0288,\n",
      "         0.0245, -0.0261,  0.0081,  0.0023, -0.0039, -0.0023, -0.0007, -0.0183,\n",
      "        -0.0328, -0.0349,  0.0079,  0.0339, -0.0279, -0.0288, -0.0347, -0.0340,\n",
      "        -0.0210,  0.0203, -0.0227, -0.0275, -0.0113, -0.0034,  0.0152, -0.0292,\n",
      "         0.0231,  0.0067,  0.0325,  0.0285, -0.0319,  0.0130,  0.0205, -0.0123,\n",
      "        -0.0346, -0.0148, -0.0053, -0.0283, -0.0314,  0.0267,  0.0069,  0.0085,\n",
      "        -0.0164,  0.0066,  0.0199,  0.0162,  0.0010,  0.0330,  0.0061, -0.0137,\n",
      "        -0.0272, -0.0128, -0.0053,  0.0209, -0.0007, -0.0139, -0.0050,  0.0282,\n",
      "        -0.0155,  0.0041,  0.0019,  0.0019, -0.0287, -0.0087,  0.0236, -0.0146,\n",
      "         0.0178,  0.0168,  0.0061,  0.0040, -0.0340, -0.0319,  0.0076,  0.0081,\n",
      "         0.0326,  0.0298,  0.0299,  0.0115, -0.0216, -0.0325, -0.0079,  0.0208,\n",
      "         0.0308, -0.0255,  0.0168, -0.0161,  0.0235,  0.0227, -0.0233, -0.0079,\n",
      "        -0.0101,  0.0268, -0.0146,  0.0248, -0.0175, -0.0136, -0.0218,  0.0235,\n",
      "        -0.0094,  0.0303,  0.0347,  0.0015,  0.0018, -0.0107, -0.0262,  0.0328,\n",
      "         0.0316, -0.0080, -0.0100, -0.0222, -0.0231,  0.0200,  0.0337, -0.0191,\n",
      "        -0.0089, -0.0098, -0.0120,  0.0324,  0.0131, -0.0118,  0.0184,  0.0127,\n",
      "         0.0172, -0.0237,  0.0042,  0.0172, -0.0171, -0.0276,  0.0176,  0.0243,\n",
      "        -0.0285, -0.0132,  0.0293,  0.0212, -0.0148, -0.0174, -0.0044,  0.0185,\n",
      "         0.0263, -0.0091, -0.0304,  0.0244,  0.0039, -0.0225,  0.0281,  0.0041,\n",
      "         0.0024, -0.0016, -0.0256,  0.0332,  0.0001, -0.0329,  0.0249,  0.0311,\n",
      "        -0.0055,  0.0205,  0.0205,  0.0066,  0.0086,  0.0086, -0.0036, -0.0356,\n",
      "         0.0210, -0.0316,  0.0078,  0.0132,  0.0128, -0.0089, -0.0280,  0.0214,\n",
      "         0.0214,  0.0041,  0.0287,  0.0307, -0.0350, -0.0199,  0.0300, -0.0134,\n",
      "         0.0050, -0.0194, -0.0052, -0.0207,  0.0310,  0.0196, -0.0149,  0.0125,\n",
      "        -0.0207, -0.0103,  0.0130,  0.0172,  0.0146, -0.0093, -0.0246,  0.0076,\n",
      "         0.0051, -0.0039, -0.0001,  0.0032, -0.0099, -0.0149,  0.0112,  0.0156,\n",
      "         0.0301,  0.0353,  0.0260,  0.0059,  0.0103, -0.0266, -0.0207, -0.0269,\n",
      "        -0.0042,  0.0234,  0.0012,  0.0317, -0.0175,  0.0332, -0.0075,  0.0357,\n",
      "        -0.0147, -0.0256,  0.0057, -0.0213,  0.0066, -0.0193,  0.0117, -0.0047,\n",
      "        -0.0013,  0.0055,  0.0351,  0.0290, -0.0222,  0.0247, -0.0120,  0.0301,\n",
      "         0.0062,  0.0149, -0.0326,  0.0209, -0.0288,  0.0147,  0.0329,  0.0084,\n",
      "         0.0059,  0.0187,  0.0155, -0.0268,  0.0243,  0.0165, -0.0199, -0.0227,\n",
      "        -0.0350,  0.0308, -0.0036, -0.0113, -0.0347, -0.0346,  0.0032, -0.0342,\n",
      "        -0.0064, -0.0282,  0.0010,  0.0096, -0.0102, -0.0180,  0.0335, -0.0040,\n",
      "         0.0279,  0.0064, -0.0305, -0.0250, -0.0344, -0.0334, -0.0227, -0.0316,\n",
      "         0.0079, -0.0133,  0.0243, -0.0295,  0.0179, -0.0279,  0.0286,  0.0277,\n",
      "        -0.0226,  0.0249,  0.0336, -0.0259, -0.0159,  0.0190,  0.0232,  0.0221,\n",
      "         0.0335,  0.0081, -0.0078, -0.0330, -0.0211,  0.0276,  0.0126,  0.0122],\n",
      "       device='cuda:0', requires_grad=True) \n",
      "\n"
     ]
    }
   ],
   "source": [
    "print(f\"First Linear weights: {model.linear_relu_stack[0].weight} \\n\")\n",
    "\n",
    "print(f\"First Linear weights: {model.linear_relu_stack[0].bias} \\n\")"
   ]
  },
  {
   "cell_type": "markdown",
   "id": "bde6adb7",
   "metadata": {},
   "source": [
    "### Model layers"
   ]
  },
  {
   "cell_type": "code",
   "execution_count": 20,
   "id": "6245a1dd",
   "metadata": {
    "ExecuteTime": {
     "end_time": "2022-05-27T03:22:32.520481Z",
     "start_time": "2022-05-27T03:22:32.512644Z"
    }
   },
   "outputs": [
    {
     "name": "stdout",
     "output_type": "stream",
     "text": [
      "torch.Size([3, 28, 28])\n"
     ]
    }
   ],
   "source": [
    "input_image = torch.rand(3, 28, 28)\n",
    "print(input_image.size())"
   ]
  },
  {
   "cell_type": "code",
   "execution_count": 21,
   "id": "48897ac8",
   "metadata": {
    "ExecuteTime": {
     "end_time": "2022-05-27T03:23:37.047271Z",
     "start_time": "2022-05-27T03:23:37.043268Z"
    }
   },
   "outputs": [
    {
     "name": "stdout",
     "output_type": "stream",
     "text": [
      "torch.Size([3, 784])\n"
     ]
    }
   ],
   "source": [
    "# nn.Flatten\n",
    "# convert 2D 28*28 image into contiguous array of 784 pixel values\n",
    "flatten = nn.Flatten()\n",
    "flat_image = flatten(input_image)\n",
    "print(flat_image.size())"
   ]
  },
  {
   "cell_type": "code",
   "execution_count": 22,
   "id": "3337e9fa",
   "metadata": {
    "ExecuteTime": {
     "end_time": "2022-05-27T03:25:02.489002Z",
     "start_time": "2022-05-27T03:25:02.465978Z"
    }
   },
   "outputs": [
    {
     "name": "stdout",
     "output_type": "stream",
     "text": [
      "torch.Size([3, 20])\n"
     ]
    }
   ],
   "source": [
    "# nn.Linear\n",
    "# weight * input + bias\n",
    "layer1 = nn.Linear(in_features=28*28, out_features=20)\n",
    "hidden1 = layer1(flat_image)\n",
    "print(hidden1.size())"
   ]
  },
  {
   "cell_type": "code",
   "execution_count": 23,
   "id": "a83f0d54",
   "metadata": {
    "ExecuteTime": {
     "end_time": "2022-05-27T03:25:17.522825Z",
     "start_time": "2022-05-27T03:25:17.507812Z"
    }
   },
   "outputs": [
    {
     "name": "stdout",
     "output_type": "stream",
     "text": [
      "Before ReLU: tensor([[ 0.0800, -0.0684, -0.5578,  0.1662,  0.5222, -0.6619,  0.2748,  0.1996,\n",
      "         -0.0531,  0.0654,  0.2851,  0.1011,  0.0594,  0.2423,  0.4047, -0.0472,\n",
      "         -0.3638,  0.1493,  0.4425, -0.4126],\n",
      "        [-0.4232,  0.2929, -0.5999, -0.0888,  0.4006, -0.3633, -0.0225, -0.0853,\n",
      "         -0.1753,  0.4773,  0.2756, -0.0682,  0.3939,  0.2675, -0.2154, -0.1541,\n",
      "         -0.4403,  0.2668,  0.5576, -0.6980],\n",
      "        [-0.2899,  0.1134, -1.1110,  0.3200,  0.4816, -0.5326,  0.0292,  0.1373,\n",
      "         -0.2280, -0.0103,  0.4970, -0.1035,  0.3570,  0.3454,  0.3748,  0.0444,\n",
      "         -0.3405,  0.0803,  0.6375, -0.6642]], grad_fn=<AddmmBackward0>)\n",
      "\n",
      "\n",
      "After ReLU: tensor([[0.0800, 0.0000, 0.0000, 0.1662, 0.5222, 0.0000, 0.2748, 0.1996, 0.0000,\n",
      "         0.0654, 0.2851, 0.1011, 0.0594, 0.2423, 0.4047, 0.0000, 0.0000, 0.1493,\n",
      "         0.4425, 0.0000],\n",
      "        [0.0000, 0.2929, 0.0000, 0.0000, 0.4006, 0.0000, 0.0000, 0.0000, 0.0000,\n",
      "         0.4773, 0.2756, 0.0000, 0.3939, 0.2675, 0.0000, 0.0000, 0.0000, 0.2668,\n",
      "         0.5576, 0.0000],\n",
      "        [0.0000, 0.1134, 0.0000, 0.3200, 0.4816, 0.0000, 0.0292, 0.1373, 0.0000,\n",
      "         0.0000, 0.4970, 0.0000, 0.3570, 0.3454, 0.3748, 0.0444, 0.0000, 0.0803,\n",
      "         0.6375, 0.0000]], grad_fn=<ReluBackward0>)\n"
     ]
    }
   ],
   "source": [
    "# nn.ReLU\n",
    "print(f\"Before ReLU: {hidden1}\\n\\n\")\n",
    "hidden1 = nn.ReLU()(hidden1)\n",
    "print(f\"After ReLU: {hidden1}\")"
   ]
  },
  {
   "cell_type": "code",
   "execution_count": 24,
   "id": "b005f016",
   "metadata": {
    "ExecuteTime": {
     "end_time": "2022-05-27T03:27:17.909386Z",
     "start_time": "2022-05-27T03:27:17.901379Z"
    }
   },
   "outputs": [],
   "source": [
    "# nn.Sequential\n",
    "# ordered container of modules\n",
    "seq_modules = nn.Sequential(\n",
    "    flatten,\n",
    "    layer1,\n",
    "    nn.ReLU(),\n",
    "    nn.Linear(20,10)\n",
    ")\n",
    "input_image = torch.rand(3, 28, 28)\n",
    "logits = seq_modules(input_image)"
   ]
  },
  {
   "cell_type": "code",
   "execution_count": 25,
   "id": "82d96a24",
   "metadata": {
    "ExecuteTime": {
     "end_time": "2022-05-27T03:27:24.662178Z",
     "start_time": "2022-05-27T03:27:24.658174Z"
    }
   },
   "outputs": [
    {
     "name": "stdout",
     "output_type": "stream",
     "text": [
      "tensor([[-1.9374e-01,  1.5458e-01,  1.2801e-01, -1.2943e-01,  4.3407e-01,\n",
      "          3.5814e-04,  1.9208e-01, -1.9306e-01,  2.9199e-01,  4.5456e-02],\n",
      "        [-1.4926e-01,  7.1454e-02,  1.1326e-01, -9.0863e-02,  4.2060e-01,\n",
      "         -1.1145e-01,  5.6299e-02, -1.2268e-01,  3.0873e-01, -3.0210e-03],\n",
      "        [-1.8101e-01,  8.6543e-02,  8.0852e-02, -1.8911e-01,  4.6967e-01,\n",
      "         -9.4538e-02,  1.4827e-01, -1.2297e-01,  3.4004e-01, -3.4773e-02]],\n",
      "       grad_fn=<AddmmBackward0>)\n"
     ]
    }
   ],
   "source": [
    "print(logits)"
   ]
  },
  {
   "cell_type": "code",
   "execution_count": 28,
   "id": "97a26d43",
   "metadata": {
    "ExecuteTime": {
     "end_time": "2022-05-27T03:29:20.462087Z",
     "start_time": "2022-05-27T03:29:20.456082Z"
    }
   },
   "outputs": [
    {
     "name": "stdout",
     "output_type": "stream",
     "text": [
      "tensor([[0.0751, 0.1064, 0.1036, 0.0801, 0.1407, 0.0912, 0.1104, 0.0751, 0.1220,\n",
      "         0.0954],\n",
      "        [0.0806, 0.1005, 0.1048, 0.0854, 0.1425, 0.0837, 0.0990, 0.0828, 0.1274,\n",
      "         0.0933],\n",
      "        [0.0775, 0.1013, 0.1008, 0.0769, 0.1486, 0.0845, 0.1078, 0.0822, 0.1306,\n",
      "         0.0898]], grad_fn=<SoftmaxBackward0>)\n",
      "tensor([4, 4, 4])\n"
     ]
    }
   ],
   "source": [
    "## nn.Softmax\n",
    "softmax = nn.Softmax(dim=1)\n",
    "pred_probab = softmax(logits)\n",
    "print(pred_probab)\n",
    "print(pred_probab.argmax(1))"
   ]
  },
  {
   "cell_type": "code",
   "execution_count": 29,
   "id": "2901b7f3",
   "metadata": {
    "ExecuteTime": {
     "end_time": "2022-05-27T09:39:50.983850Z",
     "start_time": "2022-05-27T09:39:50.940822Z"
    }
   },
   "outputs": [
    {
     "name": "stdout",
     "output_type": "stream",
     "text": [
      "Model structure:  NeuralNetwork(\n",
      "  (flatten): Flatten(start_dim=1, end_dim=-1)\n",
      "  (linear_relu_stack): Sequential(\n",
      "    (0): Linear(in_features=784, out_features=512, bias=True)\n",
      "    (1): ReLU()\n",
      "    (2): Linear(in_features=512, out_features=512, bias=True)\n",
      "    (3): ReLU()\n",
      "    (4): Linear(in_features=512, out_features=10, bias=True)\n",
      "    (5): ReLU()\n",
      "  )\n",
      ") \n",
      "\n",
      "\n",
      "Layer: linear_relu_stack.0.weight | Size: torch.Size([512, 784]) | Values : tensor([[ 0.0087, -0.0046, -0.0333,  ...,  0.0283, -0.0220, -0.0045],\n",
      "        [ 0.0168,  0.0060,  0.0144,  ..., -0.0010,  0.0279,  0.0338]],\n",
      "       device='cuda:0', grad_fn=<SliceBackward0>) \n",
      "\n",
      "Layer: linear_relu_stack.0.bias | Size: torch.Size([512]) | Values : tensor([0.0350, 0.0086], device='cuda:0', grad_fn=<SliceBackward0>) \n",
      "\n",
      "Layer: linear_relu_stack.2.weight | Size: torch.Size([512, 512]) | Values : tensor([[ 0.0062,  0.0094,  0.0229,  ...,  0.0389, -0.0222, -0.0272],\n",
      "        [-0.0297, -0.0017,  0.0151,  ..., -0.0003,  0.0384,  0.0123]],\n",
      "       device='cuda:0', grad_fn=<SliceBackward0>) \n",
      "\n",
      "Layer: linear_relu_stack.2.bias | Size: torch.Size([512]) | Values : tensor([-0.0041, -0.0222], device='cuda:0', grad_fn=<SliceBackward0>) \n",
      "\n",
      "Layer: linear_relu_stack.4.weight | Size: torch.Size([10, 512]) | Values : tensor([[ 0.0388,  0.0155, -0.0292,  ...,  0.0073,  0.0397, -0.0154],\n",
      "        [-0.0184, -0.0212, -0.0088,  ..., -0.0149, -0.0437,  0.0393]],\n",
      "       device='cuda:0', grad_fn=<SliceBackward0>) \n",
      "\n",
      "Layer: linear_relu_stack.4.bias | Size: torch.Size([10]) | Values : tensor([-0.0204,  0.0420], device='cuda:0', grad_fn=<SliceBackward0>) \n",
      "\n"
     ]
    }
   ],
   "source": [
    "# model parameters\n",
    "# model.named_parameters() 로 parameter들을 알 수 있다\n",
    "print(\"Model structure: \", model, \"\\n\\n\")\n",
    "\n",
    "for name, param in model.named_parameters():\n",
    "    print(f\"Layer: {name} | Size: {param.size()} | Values : {param[:2]} \\n\")"
   ]
  },
  {
   "cell_type": "code",
   "execution_count": null,
   "id": "93b71cc2",
   "metadata": {},
   "outputs": [],
   "source": []
  }
 ],
 "metadata": {
  "hide_input": false,
  "kernelspec": {
   "display_name": "torch_env",
   "language": "python",
   "name": "torch_env"
  },
  "language_info": {
   "codemirror_mode": {
    "name": "ipython",
    "version": 3
   },
   "file_extension": ".py",
   "mimetype": "text/x-python",
   "name": "python",
   "nbconvert_exporter": "python",
   "pygments_lexer": "ipython3",
   "version": "3.8.13"
  },
  "toc": {
   "base_numbering": 1,
   "nav_menu": {},
   "number_sections": true,
   "sideBar": true,
   "skip_h1_title": false,
   "title_cell": "Table of Contents",
   "title_sidebar": "Contents",
   "toc_cell": false,
   "toc_position": {},
   "toc_section_display": true,
   "toc_window_display": false
  },
  "varInspector": {
   "cols": {
    "lenName": 16,
    "lenType": 16,
    "lenVar": 40
   },
   "kernels_config": {
    "python": {
     "delete_cmd_postfix": "",
     "delete_cmd_prefix": "del ",
     "library": "var_list.py",
     "varRefreshCmd": "print(var_dic_list())"
    },
    "r": {
     "delete_cmd_postfix": ") ",
     "delete_cmd_prefix": "rm(",
     "library": "var_list.r",
     "varRefreshCmd": "cat(var_dic_list()) "
    }
   },
   "types_to_exclude": [
    "module",
    "function",
    "builtin_function_or_method",
    "instance",
    "_Feature"
   ],
   "window_display": false
  }
 },
 "nbformat": 4,
 "nbformat_minor": 5
}
