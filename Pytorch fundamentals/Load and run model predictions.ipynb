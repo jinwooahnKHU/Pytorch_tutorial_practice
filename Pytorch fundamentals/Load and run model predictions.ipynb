{
 "cells": [
  {
   "cell_type": "markdown",
   "id": "decimal-market",
   "metadata": {},
   "source": [
    "## Load the model"
   ]
  },
  {
   "cell_type": "code",
   "execution_count": 1,
   "id": "bound-biology",
   "metadata": {
    "ExecuteTime": {
     "end_time": "2022-06-01T06:15:42.811100Z",
     "start_time": "2022-06-01T06:15:42.015799Z"
    }
   },
   "outputs": [],
   "source": [
    "import torch\n",
    "import onnxruntime\n",
    "from torch import nn\n",
    "import torch.onnx as onnx\n",
    "import torchvision.models as models\n",
    "from torchvision import datasets\n",
    "from torchvision.transforms import ToTensor"
   ]
  },
  {
   "cell_type": "code",
   "execution_count": 2,
   "id": "integrated-apple",
   "metadata": {
    "ExecuteTime": {
     "end_time": "2022-06-01T06:48:24.577910Z",
     "start_time": "2022-06-01T06:48:24.564563Z"
    }
   },
   "outputs": [],
   "source": [
    "class NeuralNetwork(nn.Module):\n",
    "    def __init__(self):\n",
    "        super(NeuralNetwork, self).__init__()\n",
    "        self.flatten = nn.Flatten()\n",
    "        self.linear_relu_stack = nn.Sequential(\n",
    "            nn.Linear(28*28, 512),\n",
    "            nn.ReLU(),\n",
    "            nn.Linear(512, 512),\n",
    "            nn.ReLU(),\n",
    "            nn.Linear(512, 10),\n",
    "            nn.ReLU()\n",
    "        )\n",
    "    \n",
    "    def forward(self, x):\n",
    "        x = self.flatten(x)\n",
    "        logits = self.linear_relu_stack(x)\n",
    "        return logits"
   ]
  },
  {
   "cell_type": "code",
   "execution_count": 3,
   "id": "executive-bailey",
   "metadata": {
    "ExecuteTime": {
     "end_time": "2022-06-01T07:00:54.562008Z",
     "start_time": "2022-06-01T07:00:54.524268Z"
    },
    "scrolled": true
   },
   "outputs": [
    {
     "data": {
      "text/plain": [
       "NeuralNetwork(\n",
       "  (flatten): Flatten(start_dim=1, end_dim=-1)\n",
       "  (linear_relu_stack): Sequential(\n",
       "    (0): Linear(in_features=784, out_features=512, bias=True)\n",
       "    (1): ReLU()\n",
       "    (2): Linear(in_features=512, out_features=512, bias=True)\n",
       "    (3): ReLU()\n",
       "    (4): Linear(in_features=512, out_features=10, bias=True)\n",
       "    (5): ReLU()\n",
       "  )\n",
       ")"
      ]
     },
     "execution_count": 3,
     "metadata": {},
     "output_type": "execute_result"
    }
   ],
   "source": [
    "# model을 load할 때도 class를 initiate 해줘야 함\n",
    "model = NeuralNetwork()\n",
    "model.load_state_dict(torch.load('data/model.pth'))\n",
    "model.eval() #이 eval()을 해줘야함!! 그럼으로써 dropout 및 batch normalization layer에 대한 처리를 함\n"
   ]
  },
  {
   "cell_type": "markdown",
   "id": "biblical-mouth",
   "metadata": {},
   "source": [
    "## Model Inference"
   ]
  },
  {
   "cell_type": "markdown",
   "id": "mobile-spending",
   "metadata": {},
   "source": [
    "+ ONNX(Open Neural Network Exchange) runtime provide solution to train once and accelerate inference on any hardware or cloud\n",
    "+ 모델을 여러 언어 등에서 inference 하기 좋게 해준다는 것 같음"
   ]
  },
  {
   "cell_type": "code",
   "execution_count": 4,
   "id": "ceramic-louisiana",
   "metadata": {
    "ExecuteTime": {
     "end_time": "2022-06-02T03:10:02.221924Z",
     "start_time": "2022-06-02T03:10:02.122203Z"
    }
   },
   "outputs": [],
   "source": [
    "# exporting the model to ONNX\n",
    "input_image = torch.zeros((1, 28, 28))\n",
    "onnx_model = 'data/model.onnx'\n",
    "onnx.export(model, input_image, onnx_model) #기존의 pytorch 모델을 onnx 형식의 모델로 export"
   ]
  },
  {
   "cell_type": "code",
   "execution_count": 5,
   "id": "important-commercial",
   "metadata": {
    "ExecuteTime": {
     "end_time": "2022-06-02T03:11:07.686425Z",
     "start_time": "2022-06-02T03:11:07.656414Z"
    }
   },
   "outputs": [
    {
     "name": "stderr",
     "output_type": "stream",
     "text": [
      "/Users/jinwooahn/miniforge3/envs/torch_env/lib/python3.8/site-packages/torchvision/datasets/mnist.py:498: UserWarning: The given NumPy array is not writeable, and PyTorch does not support non-writeable tensors. This means you can write to the underlying (supposedly non-writeable) NumPy array using the tensor. You may want to copy the array to protect its data or make it writeable before converting it to a tensor. This type of warning will be suppressed for the rest of this program. (Triggered internally at  /tmp/pip-req-build-jhk0fkj8/torch/csrc/utils/tensor_numpy.cpp:180.)\n",
      "  return torch.from_numpy(parsed.astype(m[2], copy=False)).view(*s)\n"
     ]
    }
   ],
   "source": [
    "test_data = datasets.FashionMNIST(\n",
    "    root=\"data\",\n",
    "    train=False,\n",
    "    download=True,\n",
    "    transform=ToTensor()\n",
    ")\n",
    "\n",
    "classes = [\n",
    "    \"T-shirt/top\",\n",
    "    \"Trouser\",\n",
    "    \"Pullover\",\n",
    "    \"Dress\",\n",
    "    \"Coat\",\n",
    "    \"Sandal\",\n",
    "    \"Shirt\",\n",
    "    \"Sneaker\",\n",
    "    \"Bag\",\n",
    "    \"Ankle boot\",\n",
    "]\n",
    "\n",
    "x, y = test_data[0][0], test_data[0][1] #test할 sample data"
   ]
  },
  {
   "cell_type": "code",
   "execution_count": 20,
   "id": "protecting-cursor",
   "metadata": {
    "ExecuteTime": {
     "end_time": "2022-06-02T03:26:01.495015Z",
     "start_time": "2022-06-02T03:26:01.467206Z"
    }
   },
   "outputs": [
    {
     "name": "stdout",
     "output_type": "stream",
     "text": [
      "Predicted: \"Ankle boot\", Actual: \"Ankle boot\"\n"
     ]
    }
   ],
   "source": [
    "# create inference session\n",
    "session = onnxruntime.InferenceSession(onnx_model, None) #모델을 넣어주어 세션을 생성\n",
    "input_name = session.get_inputs()[0].name \n",
    "output_name = session.get_outputs()[0].name\n",
    "\n",
    "result = session.run([output_name], {input_name:x.numpy()}) #test할 sampledata를 numpy로 바꿔준다\n",
    "predicted, actual = classes[result[0][0].argmax(0)], classes[y] #numpy의 argmax이므로 argmax(0)은 행에서 가장 큰 값 찾는다는것\n",
    "\n",
    "print(f'Predicted: \"{predicted}\", Actual: \"{actual}\"')\n"
   ]
  }
 ],
 "metadata": {
  "hide_input": false,
  "kernelspec": {
   "display_name": "pytorch_env",
   "language": "python",
   "name": "pytorch_env"
  },
  "language_info": {
   "codemirror_mode": {
    "name": "ipython",
    "version": 3
   },
   "file_extension": ".py",
   "mimetype": "text/x-python",
   "name": "python",
   "nbconvert_exporter": "python",
   "pygments_lexer": "ipython3",
   "version": "3.8.13"
  },
  "toc": {
   "base_numbering": 1,
   "nav_menu": {},
   "number_sections": true,
   "sideBar": true,
   "skip_h1_title": false,
   "title_cell": "Table of Contents",
   "title_sidebar": "Contents",
   "toc_cell": false,
   "toc_position": {},
   "toc_section_display": true,
   "toc_window_display": false
  },
  "varInspector": {
   "cols": {
    "lenName": 16,
    "lenType": 16,
    "lenVar": 40
   },
   "kernels_config": {
    "python": {
     "delete_cmd_postfix": "",
     "delete_cmd_prefix": "del ",
     "library": "var_list.py",
     "varRefreshCmd": "print(var_dic_list())"
    },
    "r": {
     "delete_cmd_postfix": ") ",
     "delete_cmd_prefix": "rm(",
     "library": "var_list.r",
     "varRefreshCmd": "cat(var_dic_list()) "
    }
   },
   "types_to_exclude": [
    "module",
    "function",
    "builtin_function_or_method",
    "instance",
    "_Feature"
   ],
   "window_display": false
  }
 },
 "nbformat": 4,
 "nbformat_minor": 5
}
