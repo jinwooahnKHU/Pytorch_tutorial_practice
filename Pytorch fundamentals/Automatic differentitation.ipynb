{
 "cells": [
  {
   "cell_type": "markdown",
   "id": "amino-mumbai",
   "metadata": {},
   "source": [
    "## Torch.autograd 를 사용한 역전파"
   ]
  },
  {
   "cell_type": "markdown",
   "id": "enabling-mouth",
   "metadata": {},
   "source": [
    "+ torch.autograd supports automatic computation of gradient "
   ]
  },
  {
   "cell_type": "code",
   "execution_count": 2,
   "id": "owned-uncertainty",
   "metadata": {
    "ExecuteTime": {
     "end_time": "2022-05-28T06:06:17.705713Z",
     "start_time": "2022-05-28T06:06:17.697695Z"
    }
   },
   "outputs": [],
   "source": [
    "import torch\n",
    "\n",
    "x = torch.ones(5) #input tensor\n",
    "y = torch.zeros(3) #expected output\n",
    "# requires_grad : default은 false, if autograd should record operations on the returned tensor, set True\n",
    "# w and b are parameters want to optimize\n",
    "# 추후 x.requires_grad_(True) 이렇게도 설정 가능\n",
    "w = torch.rand(5, 3, requires_grad=True)\n",
    "b = torch.rand(3, requires_grad=True)\n",
    "z = torch.matmul(x, w)+b\n",
    "\n",
    "# y값이 0 아니면 1로 하여 binary cross entropy\n",
    "loss = torch.nn.functional.binary_cross_entropy_with_logits(z, y)\n"
   ]
  },
  {
   "cell_type": "code",
   "execution_count": 5,
   "id": "adopted-baking",
   "metadata": {
    "ExecuteTime": {
     "end_time": "2022-05-28T06:13:09.092060Z",
     "start_time": "2022-05-28T06:13:09.085374Z"
    }
   },
   "outputs": [
    {
     "data": {
      "text/plain": [
       "tensor([1., 1., 1., 1., 1.])"
      ]
     },
     "execution_count": 5,
     "metadata": {},
     "output_type": "execute_result"
    }
   ],
   "source": [
    "x"
   ]
  },
  {
   "cell_type": "code",
   "execution_count": 6,
   "id": "romantic-scoop",
   "metadata": {
    "ExecuteTime": {
     "end_time": "2022-05-28T06:13:11.783212Z",
     "start_time": "2022-05-28T06:13:11.778043Z"
    }
   },
   "outputs": [
    {
     "data": {
      "text/plain": [
       "tensor([[0.8998, 0.2096, 0.7179],\n",
       "        [0.1837, 0.1437, 0.6708],\n",
       "        [0.0515, 0.2548, 0.9957],\n",
       "        [0.2768, 0.9083, 0.8156],\n",
       "        [0.3747, 0.4235, 0.3415]], requires_grad=True)"
      ]
     },
     "execution_count": 6,
     "metadata": {},
     "output_type": "execute_result"
    }
   ],
   "source": [
    "w"
   ]
  },
  {
   "cell_type": "code",
   "execution_count": 7,
   "id": "latin-valuable",
   "metadata": {
    "ExecuteTime": {
     "end_time": "2022-05-28T06:13:28.118071Z",
     "start_time": "2022-05-28T06:13:28.112299Z"
    }
   },
   "outputs": [
    {
     "data": {
      "text/plain": [
       "tensor([1.7865, 1.9400, 3.5415], grad_fn=<SqueezeBackward3>)"
      ]
     },
     "execution_count": 7,
     "metadata": {},
     "output_type": "execute_result"
    }
   ],
   "source": [
    "torch.matmul(x, w)"
   ]
  },
  {
   "cell_type": "code",
   "execution_count": 8,
   "id": "cheap-paradise",
   "metadata": {
    "ExecuteTime": {
     "end_time": "2022-05-28T06:14:16.804071Z",
     "start_time": "2022-05-28T06:14:16.799182Z"
    }
   },
   "outputs": [
    {
     "data": {
      "text/plain": [
       "tensor(3.1431, grad_fn=<BinaryCrossEntropyWithLogitsBackward>)"
      ]
     },
     "execution_count": 8,
     "metadata": {},
     "output_type": "execute_result"
    }
   ],
   "source": [
    "loss"
   ]
  },
  {
   "cell_type": "code",
   "execution_count": 10,
   "id": "referenced-commerce",
   "metadata": {
    "ExecuteTime": {
     "end_time": "2022-05-28T06:20:46.627514Z",
     "start_time": "2022-05-28T06:20:46.623013Z"
    }
   },
   "outputs": [
    {
     "name": "stdout",
     "output_type": "stream",
     "text": [
      "Gradient function for z = <AddBackward0 object at 0x1060558e0>\n",
      "Gradient function for loss = <BinaryCrossEntropyWithLogitsBackward object at 0x106055d60>\n"
     ]
    }
   ],
   "source": [
    "# back propagation computation with .grad_fn\n",
    "print('Gradient function for z =',z.grad_fn)\n",
    "print('Gradient function for loss =', loss.grad_fn)"
   ]
  },
  {
   "cell_type": "markdown",
   "id": "convinced-melbourne",
   "metadata": {},
   "source": [
    "### Computing gradients"
   ]
  },
  {
   "cell_type": "markdown",
   "id": "agreed-desperate",
   "metadata": {},
   "source": [
    "+ compute the derivatives of loss function with respective parameters.\n",
    "\n",
    "\n",
    "$\\frac{\\partial loss}{\\partial w}$ and\n",
    "$\\frac{\\partial loss}{\\partial b}$ under some fixed values of\n",
    "`x` and `y`"
   ]
  },
  {
   "cell_type": "code",
   "execution_count": 12,
   "id": "sudden-library",
   "metadata": {
    "ExecuteTime": {
     "end_time": "2022-05-28T06:23:06.696547Z",
     "start_time": "2022-05-28T06:23:06.693481Z"
    }
   },
   "outputs": [
    {
     "name": "stdout",
     "output_type": "stream",
     "text": [
      "None\n"
     ]
    }
   ],
   "source": [
    "# To compute derivatives, call loss.backword() first, and get value with w.grad\n",
    "print(w.grad)\n",
    "# loss.backward()을 하지 않고 call 하면 역전파 계산을 하지 않았으므로, None으로 나온다"
   ]
  },
  {
   "cell_type": "code",
   "execution_count": 13,
   "id": "naked-director",
   "metadata": {
    "ExecuteTime": {
     "end_time": "2022-05-28T06:23:43.924915Z",
     "start_time": "2022-05-28T06:23:43.919223Z"
    }
   },
   "outputs": [
    {
     "name": "stdout",
     "output_type": "stream",
     "text": [
      "tensor([[0.3061, 0.3041, 0.3296],\n",
      "        [0.3061, 0.3041, 0.3296],\n",
      "        [0.3061, 0.3041, 0.3296],\n",
      "        [0.3061, 0.3041, 0.3296],\n",
      "        [0.3061, 0.3041, 0.3296]])\n",
      "tensor([0.3061, 0.3041, 0.3296])\n"
     ]
    }
   ],
   "source": [
    "loss.backward()\n",
    "print(w.grad)\n",
    "print(b.grad)"
   ]
  },
  {
   "cell_type": "code",
   "execution_count": 18,
   "id": "thrown-perception",
   "metadata": {
    "ExecuteTime": {
     "end_time": "2022-05-28T06:26:43.650893Z",
     "start_time": "2022-05-28T06:26:43.646520Z"
    }
   },
   "outputs": [
    {
     "name": "stdout",
     "output_type": "stream",
     "text": [
      "True\n",
      "False\n"
     ]
    }
   ],
   "source": [
    "# 만약 더 이상 미분값을 기록할 필요 없을 때는, torch.no_grad()로 해주면 된다.\n",
    "z = torch.matmul(x, w) + b\n",
    "print(z.requires_grad)\n",
    "\n",
    "with torch.no_grad():\n",
    "    z = torch.matmul(x, w) + b\n",
    "\n",
    "print(z.requires_grad)  "
   ]
  },
  {
   "cell_type": "markdown",
   "id": "blond-worry",
   "metadata": {},
   "source": [
    "+ autograd 은 tensor들의 미분값들을 기록한다. 이 때, DAG(Directed Acyclic Graph)으로 기록한다. Input tensor은 leaf노드가 되며, root node은 output tensors가 된다. root에서 leaves까지 가면서 chain rule을 적용하면 자동적으로 gradient을 계산할 수 있다"
   ]
  },
  {
   "cell_type": "code",
   "execution_count": null,
   "id": "respiratory-bundle",
   "metadata": {},
   "outputs": [],
   "source": []
  }
 ],
 "metadata": {
  "hide_input": false,
  "kernelspec": {
   "display_name": "pytorch_env",
   "language": "python",
   "name": "pytorch_env"
  },
  "language_info": {
   "codemirror_mode": {
    "name": "ipython",
    "version": 3
   },
   "file_extension": ".py",
   "mimetype": "text/x-python",
   "name": "python",
   "nbconvert_exporter": "python",
   "pygments_lexer": "ipython3",
   "version": "3.8.13"
  },
  "toc": {
   "base_numbering": 1,
   "nav_menu": {},
   "number_sections": true,
   "sideBar": true,
   "skip_h1_title": false,
   "title_cell": "Table of Contents",
   "title_sidebar": "Contents",
   "toc_cell": false,
   "toc_position": {},
   "toc_section_display": true,
   "toc_window_display": false
  },
  "varInspector": {
   "cols": {
    "lenName": 16,
    "lenType": 16,
    "lenVar": 40
   },
   "kernels_config": {
    "python": {
     "delete_cmd_postfix": "",
     "delete_cmd_prefix": "del ",
     "library": "var_list.py",
     "varRefreshCmd": "print(var_dic_list())"
    },
    "r": {
     "delete_cmd_postfix": ") ",
     "delete_cmd_prefix": "rm(",
     "library": "var_list.r",
     "varRefreshCmd": "cat(var_dic_list()) "
    }
   },
   "types_to_exclude": [
    "module",
    "function",
    "builtin_function_or_method",
    "instance",
    "_Feature"
   ],
   "window_display": false
  }
 },
 "nbformat": 4,
 "nbformat_minor": 5
}
